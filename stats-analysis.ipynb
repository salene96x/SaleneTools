{
 "cells": [
  {
   "cell_type": "code",
   "execution_count": 68,
   "metadata": {},
   "outputs": [],
   "source": [
    "import pandas as pd"
   ]
  },
  {
   "cell_type": "code",
   "execution_count": 69,
   "metadata": {},
   "outputs": [],
   "source": [
    "df = pd.read_excel('Age_Range_Distribution.xlsx', sheet_name='Original Data by Segment')"
   ]
  },
  {
   "cell_type": "code",
   "execution_count": 70,
   "metadata": {},
   "outputs": [],
   "source": [
    "df_fap_7_individual = df.loc[(df['Segment Name'] == 'Family and Parenting') & (df['month'] == 7) & (df['business_customer'] == 'Individual')]"
   ]
  },
  {
   "cell_type": "code",
   "execution_count": 71,
   "metadata": {},
   "outputs": [],
   "source": [
    "df_fap_7_company = df.loc[(df['Segment Name'] == 'Family and Parenting') & (df['month'] == 7) & (df['business_customer'] == 'Company')]"
   ]
  },
  {
   "cell_type": "code",
   "execution_count": 72,
   "metadata": {},
   "outputs": [],
   "source": [
    "df_fap_8_individual = df.loc[(df['Segment Name'] == 'Family and Parenting') & (df['month'] == 8) & (df['business_customer'] == 'Individual')]"
   ]
  },
  {
   "cell_type": "code",
   "execution_count": 73,
   "metadata": {},
   "outputs": [],
   "source": [
    "df_fap_8_company = df.loc[(df['Segment Name'] == 'Family and Parenting') & (df['month'] == 8) & (df['business_customer'] == 'Company')]"
   ]
  },
  {
   "cell_type": "code",
   "execution_count": 74,
   "metadata": {},
   "outputs": [],
   "source": [
    "df_fap_11_individual = df.loc[(df['Segment Name'] == 'Family and Parenting') & (df['month'] == 11) & (df['business_customer'] == 'Individual')]"
   ]
  },
  {
   "cell_type": "code",
   "execution_count": 75,
   "metadata": {},
   "outputs": [],
   "source": [
    "df_fap_11_company = df.loc[(df['Segment Name'] == 'Family and Parenting') & (df['month'] == 11) & (df['business_customer'] == 'Company')]"
   ]
  },
  {
   "cell_type": "code",
   "execution_count": 76,
   "metadata": {},
   "outputs": [],
   "source": [
    "df_fap_7_individual = df_fap_7_individual.drop(columns=['Segment Name', 'year', 'month', 'business_customer', 'no. enrich_audience'])"
   ]
  },
  {
   "cell_type": "code",
   "execution_count": 77,
   "metadata": {},
   "outputs": [
    {
     "data": {
      "text/html": [
       "<div>\n",
       "<style scoped>\n",
       "    .dataframe tbody tr th:only-of-type {\n",
       "        vertical-align: middle;\n",
       "    }\n",
       "\n",
       "    .dataframe tbody tr th {\n",
       "        vertical-align: top;\n",
       "    }\n",
       "\n",
       "    .dataframe thead th {\n",
       "        text-align: right;\n",
       "    }\n",
       "</style>\n",
       "<table border=\"1\" class=\"dataframe\">\n",
       "  <thead>\n",
       "    <tr style=\"text-align: right;\">\n",
       "      <th></th>\n",
       "      <th>age_range</th>\n",
       "      <th>no. label_audience</th>\n",
       "      <th>no. predict_audience</th>\n",
       "    </tr>\n",
       "  </thead>\n",
       "  <tbody>\n",
       "    <tr>\n",
       "      <th>0</th>\n",
       "      <td>13 - 17</td>\n",
       "      <td>90185</td>\n",
       "      <td>175.0</td>\n",
       "    </tr>\n",
       "    <tr>\n",
       "      <th>1</th>\n",
       "      <td>18 - 24</td>\n",
       "      <td>53008</td>\n",
       "      <td>136.0</td>\n",
       "    </tr>\n",
       "    <tr>\n",
       "      <th>2</th>\n",
       "      <td>25 - 34</td>\n",
       "      <td>7315</td>\n",
       "      <td>52464.0</td>\n",
       "    </tr>\n",
       "    <tr>\n",
       "      <th>3</th>\n",
       "      <td>35 - 44</td>\n",
       "      <td>6850</td>\n",
       "      <td>159484.0</td>\n",
       "    </tr>\n",
       "    <tr>\n",
       "      <th>4</th>\n",
       "      <td>45 - 54</td>\n",
       "      <td>4131</td>\n",
       "      <td>291708.0</td>\n",
       "    </tr>\n",
       "    <tr>\n",
       "      <th>5</th>\n",
       "      <td>55 - 64</td>\n",
       "      <td>2576</td>\n",
       "      <td>54398.0</td>\n",
       "    </tr>\n",
       "    <tr>\n",
       "      <th>18</th>\n",
       "      <td>Unknown</td>\n",
       "      <td>558365</td>\n",
       "      <td>NaN</td>\n",
       "    </tr>\n",
       "  </tbody>\n",
       "</table>\n",
       "</div>"
      ],
      "text/plain": [
       "   age_range  no. label_audience  no. predict_audience\n",
       "0    13 - 17               90185                 175.0\n",
       "1    18 - 24               53008                 136.0\n",
       "2    25 - 34                7315               52464.0\n",
       "3    35 - 44                6850              159484.0\n",
       "4    45 - 54                4131              291708.0\n",
       "5    55 - 64                2576               54398.0\n",
       "18   Unknown              558365                   NaN"
      ]
     },
     "execution_count": 77,
     "metadata": {},
     "output_type": "execute_result"
    }
   ],
   "source": [
    "df_fap_7_individual"
   ]
  },
  {
   "cell_type": "code",
   "execution_count": 78,
   "metadata": {},
   "outputs": [],
   "source": [
    "df_fap_7_individual.dropna(inplace=True)"
   ]
  },
  {
   "cell_type": "code",
   "execution_count": 79,
   "metadata": {},
   "outputs": [],
   "source": [
    "from scipy.stats import chi2_contingency"
   ]
  },
  {
   "cell_type": "code",
   "execution_count": 80,
   "metadata": {},
   "outputs": [
    {
     "name": "stdout",
     "output_type": "stream",
     "text": [
      "30.000000000000014 0.22428900483440342 25\n"
     ]
    }
   ],
   "source": [
    "crosstab = pd.crosstab([df_fap_7_individual['no. label_audience'], df_fap_7_individual['no. predict_audience']], df_fap_7_individual['age_range'])\n",
    "stat, p, dof, expected = chi2_contingency(crosstab)\n",
    "print(stat, p, dof)"
   ]
  },
  {
   "cell_type": "code",
   "execution_count": 81,
   "metadata": {},
   "outputs": [
    {
     "data": {
      "text/html": [
       "<div>\n",
       "<style scoped>\n",
       "    .dataframe tbody tr th:only-of-type {\n",
       "        vertical-align: middle;\n",
       "    }\n",
       "\n",
       "    .dataframe tbody tr th {\n",
       "        vertical-align: top;\n",
       "    }\n",
       "\n",
       "    .dataframe thead th {\n",
       "        text-align: right;\n",
       "    }\n",
       "</style>\n",
       "<table border=\"1\" class=\"dataframe\">\n",
       "  <thead>\n",
       "    <tr style=\"text-align: right;\">\n",
       "      <th></th>\n",
       "      <th>age_range</th>\n",
       "      <th>no. label_audience</th>\n",
       "      <th>no. predict_audience</th>\n",
       "    </tr>\n",
       "  </thead>\n",
       "  <tbody>\n",
       "    <tr>\n",
       "      <th>0</th>\n",
       "      <td>13 - 17</td>\n",
       "      <td>90185</td>\n",
       "      <td>175.0</td>\n",
       "    </tr>\n",
       "    <tr>\n",
       "      <th>1</th>\n",
       "      <td>18 - 24</td>\n",
       "      <td>53008</td>\n",
       "      <td>136.0</td>\n",
       "    </tr>\n",
       "    <tr>\n",
       "      <th>2</th>\n",
       "      <td>25 - 34</td>\n",
       "      <td>7315</td>\n",
       "      <td>52464.0</td>\n",
       "    </tr>\n",
       "    <tr>\n",
       "      <th>3</th>\n",
       "      <td>35 - 44</td>\n",
       "      <td>6850</td>\n",
       "      <td>159484.0</td>\n",
       "    </tr>\n",
       "    <tr>\n",
       "      <th>4</th>\n",
       "      <td>45 - 54</td>\n",
       "      <td>4131</td>\n",
       "      <td>291708.0</td>\n",
       "    </tr>\n",
       "    <tr>\n",
       "      <th>5</th>\n",
       "      <td>55 - 64</td>\n",
       "      <td>2576</td>\n",
       "      <td>54398.0</td>\n",
       "    </tr>\n",
       "  </tbody>\n",
       "</table>\n",
       "</div>"
      ],
      "text/plain": [
       "  age_range  no. label_audience  no. predict_audience\n",
       "0   13 - 17               90185                 175.0\n",
       "1   18 - 24               53008                 136.0\n",
       "2   25 - 34                7315               52464.0\n",
       "3   35 - 44                6850              159484.0\n",
       "4   45 - 54                4131              291708.0\n",
       "5   55 - 64                2576               54398.0"
      ]
     },
     "execution_count": 81,
     "metadata": {},
     "output_type": "execute_result"
    }
   ],
   "source": [
    "df_fap_7_individual"
   ]
  },
  {
   "cell_type": "code",
   "execution_count": null,
   "metadata": {},
   "outputs": [],
   "source": []
  }
 ],
 "metadata": {
  "kernelspec": {
   "display_name": "Python 3",
   "language": "python",
   "name": "python3"
  },
  "language_info": {
   "codemirror_mode": {
    "name": "ipython",
    "version": 3
   },
   "file_extension": ".py",
   "mimetype": "text/x-python",
   "name": "python",
   "nbconvert_exporter": "python",
   "pygments_lexer": "ipython3",
   "version": "3.10.5"
  },
  "orig_nbformat": 4,
  "vscode": {
   "interpreter": {
    "hash": "aee8b7b246df8f9039afb4144a1f6fd8d2ca17a180786b69acc140d282b71a49"
   }
  }
 },
 "nbformat": 4,
 "nbformat_minor": 2
}
